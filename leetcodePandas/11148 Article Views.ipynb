{
 "cells": [
  {
   "cell_type": "code",
   "execution_count": 1,
   "id": "55716d1b",
   "metadata": {},
   "outputs": [],
   "source": [
    "import pandas as pd\n",
    "\n",
    "def article_views(views: pd.DataFrame) -> pd.DataFrame:\n",
    "    \n",
    "    df = pd.DataFrame(views)\n",
    "\n",
    "    #Step 1: Filter where author viewed their own article\n",
    "    same_person = views[views['author_id'] == views['viewer_id']]\n",
    "    \n",
    "    # Step 2: Select only the 'author_id' column as a DataFrame\n",
    "    authors_df = same_person[['author_id']]\n",
    "    \n",
    "    # Step 3: Drop duplicates\n",
    "    unique_authors = authors_df.drop_duplicates()\n",
    "    \n",
    "    # Step 4: Rename column to 'id'\n",
    "    result = unique_authors.rename(columns={'author_id': 'id'})\n",
    "    \n",
    "    # Step 5: Sort and return\n",
    "    return result.sort_values(by='id')"
   ]
  }
 ],
 "metadata": {
  "kernelspec": {
   "display_name": "Python 3",
   "language": "python",
   "name": "python3"
  },
  "language_info": {
   "codemirror_mode": {
    "name": "ipython",
    "version": 3
   },
   "file_extension": ".py",
   "mimetype": "text/x-python",
   "name": "python",
   "nbconvert_exporter": "python",
   "pygments_lexer": "ipython3",
   "version": "3.13.2"
  }
 },
 "nbformat": 4,
 "nbformat_minor": 5
}
