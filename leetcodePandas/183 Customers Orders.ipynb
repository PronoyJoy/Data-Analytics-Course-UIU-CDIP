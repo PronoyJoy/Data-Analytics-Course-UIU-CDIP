{
 "cells": [
  {
   "cell_type": "code",
   "execution_count": 1,
   "id": "9f07e4b9",
   "metadata": {},
   "outputs": [],
   "source": [
    "import pandas as pd"
   ]
  },
  {
   "cell_type": "code",
   "execution_count": 2,
   "id": "6f2066ba",
   "metadata": {},
   "outputs": [],
   "source": [
    "\n",
    "\n",
    "def find_customers(customers: pd.DataFrame, orders: pd.DataFrame) -> pd.DataFrame:\n",
    "\n",
    "    merged_df = pd.merge(customers, orders, left_on='id', right_on='customerId', how='left')\n",
    "\n",
    "    no_orders = merged_df[merged_df['customerId'].isna()][['name']]\n",
    "\n",
    "    no_orders.columns = ['Customers']\n",
    "    \n",
    "    return no_orders\n",
    "    "
   ]
  }
 ],
 "metadata": {
  "kernelspec": {
   "display_name": "Python 3",
   "language": "python",
   "name": "python3"
  },
  "language_info": {
   "codemirror_mode": {
    "name": "ipython",
    "version": 3
   },
   "file_extension": ".py",
   "mimetype": "text/x-python",
   "name": "python",
   "nbconvert_exporter": "python",
   "pygments_lexer": "ipython3",
   "version": "3.13.2"
  }
 },
 "nbformat": 4,
 "nbformat_minor": 5
}
